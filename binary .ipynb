{
 "cells": [
  {
   "cell_type": "code",
   "execution_count": null,
   "metadata": {},
   "outputs": [],
   "source": [
    "#Binary to denary conversion  \n",
    "binary = input(\"Input a number in binary:\")  \n",
    "denary = 0  \n",
    "for digit in binary:  \n",
    "  #A left shift in binary means x2  \n",
    "  denary = denary*2 + int(digit)  \n",
    "print(\"Your denary number is: \" + str(denary))  \n",
    "  \n",
    "#Denary to binary conversion  \n",
    "denary = int(input(\"Input a denary number:\"))  \n",
    "binary=\"\"  \n",
    "while denary>0:  \n",
    "  #A left shift in binary means /2  \n",
    "  binary = str(denary%2) + binary  \n",
    "  denary = denary//2  \n",
    "print(\"Your binary number is: \" + binary)  \n",
    "\n",
    "#String to binary\n",
    "\n"
   ]
  },
  {
   "cell_type": "code",
   "execution_count": null,
   "metadata": {},
   "outputs": [],
   "source": []
  }
 ],
 "metadata": {
  "kernelspec": {
   "display_name": "Python 3",
   "language": "python",
   "name": "python3"
  },
  "language_info": {
   "codemirror_mode": {
    "name": "ipython",
    "version": 3
   },
   "file_extension": ".py",
   "mimetype": "text/x-python",
   "name": "python",
   "nbconvert_exporter": "python",
   "pygments_lexer": "ipython3",
   "version": "3.6.5"
  }
 },
 "nbformat": 4,
 "nbformat_minor": 2
}
