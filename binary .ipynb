{
 "cells": [
  {
   "cell_type": "code",
   "execution_count": 6,
   "metadata": {},
   "outputs": [
    {
     "name": "stdout",
     "output_type": "stream",
     "text": [
      "Input a number in binary:1000001\n",
      "Your denary number is: 65\n",
      "Input a denary number:25\n",
      "Your binary number is: 11001\n",
      "String: victor\n",
      "011101100110100101100011011101000110111101110010\n",
      "binary to convert to string011101100110100101100011011101000110111101110010\n",
      "victor\n"
     ]
    }
   ],
   "source": [
    "#Binary to denary conversion  \n",
    "binary = input(\"Input a number in binary:\")  \n",
    "denary = 0  \n",
    "for digit in binary:  \n",
    "  #A left shift in binary means x2  \n",
    "  denary = denary*2 + int(digit)  \n",
    "print(\"Your denary number is: \" + str(denary))  \n",
    "  \n",
    "#Denary to binary conversion  \n",
    "denary = int(input(\"Input a denary number:\"))  \n",
    "binary=\"\"  \n",
    "while denary>0:  \n",
    "  #A left shift in binary means /2  \n",
    "  binary = str(denary%2) + binary  \n",
    "  denary = denary//2  \n",
    "print(\"Your binary number is: \" + binary)  \n",
    "\n",
    "#String to binary\n",
    "binary = []\n",
    "def strBin(s_str):\n",
    "    for s in s_str:\n",
    "        if s == ' ':\n",
    "            binary.append('00100000')\n",
    "        else:\n",
    "            binary.append(bin(ord(s)))\n",
    "s_str = input(\"String: \")\n",
    "strBin(s_str)\n",
    "\n",
    "b_str = ''.join(str(b_str) for b_str in binary) # print as type str\n",
    "# replace '\\n' to '' to output in one line without spaces, ' ' if with spaces\n",
    "\n",
    "print(b_str.replace('b',''))\n",
    "\n",
    "\n",
    "#binary to string\n",
    "x = input(\"binary to convert to string\")\n",
    "\n",
    "def decode_binary_string(s):\n",
    "    return ''.join(chr(int(s[i*8:i*8+8],2)) for i in range(len(s)//8))\n",
    "\n",
    "print(decode_binary_string(x))\n",
    "\n",
    "\n"
   ]
  },
  {
   "cell_type": "code",
   "execution_count": null,
   "metadata": {},
   "outputs": [],
   "source": []
  }
 ],
 "metadata": {
  "kernelspec": {
   "display_name": "Python 3",
   "language": "python",
   "name": "python3"
  },
  "language_info": {
   "codemirror_mode": {
    "name": "ipython",
    "version": 3
   },
   "file_extension": ".py",
   "mimetype": "text/x-python",
   "name": "python",
   "nbconvert_exporter": "python",
   "pygments_lexer": "ipython3",
   "version": "3.6.5"
  }
 },
 "nbformat": 4,
 "nbformat_minor": 2
}
